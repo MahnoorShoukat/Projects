{
  "cells": [
    {
      "cell_type": "code",
      "execution_count": null,
      "id": "6228266f",
      "metadata": {
        "execution": {
          "iopub.execute_input": "2022-03-31T11:19:13.013589Z",
          "iopub.status.busy": "2022-03-31T11:19:13.012911Z",
          "iopub.status.idle": "2022-03-31T11:19:14.502767Z",
          "shell.execute_reply": "2022-03-31T11:19:14.501981Z",
          "shell.execute_reply.started": "2022-03-31T11:10:50.191155Z"
        },
        "papermill": {
          "duration": 1.572637,
          "end_time": "2022-03-31T11:19:14.502931",
          "exception": false,
          "start_time": "2022-03-31T11:19:12.930294",
          "status": "completed"
        },
        "tags": [],
        "id": "6228266f"
      },
      "outputs": [],
      "source": [
        "# Importing Libraries\n",
        "import pandas as pd\n",
        "import numpy as np\n",
        "import seaborn as sns\n",
        "import matplotlib.pyplot as plt\n",
        "import warnings\n",
        "warnings.filterwarnings(\"ignore\")\n",
        "\n",
        "from sklearn.preprocessing import LabelEncoder\n",
        "from sklearn.model_selection import train_test_split\n",
        "from sklearn.linear_model import LinearRegression\n",
        "from sklearn.tree import DecisionTreeRegressor\n",
        "from sklearn.ensemble import RandomForestRegressor\n",
        "from sklearn import metrics\n",
        "from sklearn.metrics import mean_absolute_error,mean_squared_error,r2_score\n",
        "from sklearn.metrics import accuracy_score,confusion_matrix"
      ]
    },
    {
      "cell_type": "code",
      "source": [
        "from google.colab import drive\n",
        "drive.mount('/content/drive')"
      ],
      "metadata": {
        "colab": {
          "base_uri": "https://localhost:8080/"
        },
        "id": "GUyn2LQ-mB6z",
        "outputId": "849c8641-1c4e-4c2d-daaa-f67b144db647"
      },
      "id": "GUyn2LQ-mB6z",
      "execution_count": null,
      "outputs": [
        {
          "output_type": "stream",
          "name": "stdout",
          "text": [
            "Drive already mounted at /content/drive; to attempt to forcibly remount, call drive.mount(\"/content/drive\", force_remount=True).\n"
          ]
        }
      ]
    },
    {
      "cell_type": "code",
      "execution_count": null,
      "id": "d0fa80c9",
      "metadata": {
        "execution": {
          "iopub.execute_input": "2022-03-31T11:19:14.664117Z",
          "iopub.status.busy": "2022-03-31T11:19:14.663452Z",
          "iopub.status.idle": "2022-03-31T11:19:16.599485Z",
          "shell.execute_reply": "2022-03-31T11:19:16.600008Z",
          "shell.execute_reply.started": "2022-03-31T11:10:51.535945Z"
        },
        "papermill": {
          "duration": 2.018932,
          "end_time": "2022-03-31T11:19:16.600192",
          "exception": false,
          "start_time": "2022-03-31T11:19:14.581260",
          "status": "completed"
        },
        "tags": [],
        "id": "d0fa80c9"
      },
      "outputs": [],
      "source": [
        "df=pd.read_csv('https://drive.google.com/file/d/1pgIVOwSe12cLAr7k60OQlGGiIli0LtNz/view?usp=share_link',encoding='unicode_escape')\n",
        "# Reading the dataset"
      ]
    },
    {
      "cell_type": "code",
      "source": [
        "def cal_Noi(no2):\n",
        "    ni=0\n",
        "    if(no2<=40):\n",
        "     ni= no2*50/40\n",
        "    elif(no2>40 and no2<=80):\n",
        "     ni= 50+(no2-40)*(50/40)\n",
        "    elif(no2>80 and no2<=180):\n",
        "     ni= 100+(no2-80)*(100/100)\n",
        "    elif(no2>180 and no2<=280):\n",
        "     ni= 200+(no2-180)*(100/100)\n",
        "    elif(no2>280 and no2<=400):\n",
        "     ni= 300+(no2-280)*(100/120)\n",
        "    else:\n",
        "     ni= 400+(no2-400)*(100/120)\n",
        "    return ni\n",
        "df['Noi']=df['no2'].apply(cal_Noi)\n",
        "data= df[['no2','Noi']]\n",
        "data.head()"
      ],
      "metadata": {
        "id": "MViKsQVVZ2_H"
      },
      "id": "MViKsQVVZ2_H",
      "execution_count": null,
      "outputs": []
    },
    {
      "cell_type": "code",
      "source": [
        "def cal_RSPMI(rspm):\n",
        "    rpi=0\n",
        "    if(rpi<=30):\n",
        "     rpi=rpi*50/30\n",
        "    elif(rpi>30 and rpi<=60):\n",
        "     rpi=50+(rpi-30)*50/30\n",
        "    elif(rpi>60 and rpi<=90):\n",
        "     rpi=100+(rpi-60)*100/30\n",
        "    elif(rpi>90 and rpi<=120):\n",
        "     rpi=200+(rpi-90)*100/30\n",
        "    elif(rpi>120 and rpi<=250):\n",
        "     rpi=300+(rpi-120)*(100/130)\n",
        "    else:\n",
        "     rpi=400+(rpi-250)*(100/130)\n",
        "    return rpi\n",
        "df['Rpi']=df['rspm'].apply(cal_RSPMI)\n",
        "data= df[['rspm','Rpi']]\n",
        "data.head()"
      ],
      "metadata": {
        "id": "4f7ng2PhZ-cz"
      },
      "id": "4f7ng2PhZ-cz",
      "execution_count": null,
      "outputs": []
    },
    {
      "cell_type": "code",
      "source": [
        "def cal_SPMi(spm):\n",
        "    spi=0\n",
        "    if(spm<=50):\n",
        "     spi=spm*50/50\n",
        "    elif(spm>50 and spm<=100):\n",
        "     spi=50+(spm-50)*(50/50)\n",
        "    elif(spm>100 and spm<=250):\n",
        "     spi= 100+(spm-100)*(100/150)\n",
        "    elif(spm>250 and spm<=350):\n",
        "     spi=200+(spm-250)*(100/100)\n",
        "    elif(spm>350 and spm<=430):\n",
        "     spi=300+(spm-350)*(100/80)\n",
        "    else:\n",
        "     spi=400+(spm-430)*(100/430)\n",
        "    return spi\n",
        "\n",
        "df['SPMi']=df['spm'].apply(cal_SPMi)\n",
        "data= df[['spm','SPMi']]\n",
        "data.head()"
      ],
      "metadata": {
        "id": "ILNhIH6PaEG5"
      },
      "id": "ILNhIH6PaEG5",
      "execution_count": null,
      "outputs": []
    },
    {
      "cell_type": "code",
      "source": [
        "def cal_aqi(si,ni,rspmi,spmi):\n",
        "    aqi=0\n",
        "    if(si>ni and si>rspmi and si>spmi):\n",
        "     aqi=si\n",
        "    if(ni>si and ni>rspmi and ni>spmi):\n",
        "     aqi=ni\n",
        "    if(rspmi>si and rspmi>ni and rspmi>spmi):\n",
        "     aqi=rspmi\n",
        "    if(spmi>si and spmi>ni and spmi>rspmi):\n",
        "     aqi=spmi\n",
        "    return aqi\n",
        "\n",
        "df['AQI']=df.apply(lambda x:cal_aqi(x['SOi'],x['Noi'],x['Rpi'],x['SPMi']),axis=1)\n",
        "data= df[['state','SOi','Noi','Rpi','SPMi','AQI']]\n",
        "data.head()"
      ],
      "metadata": {
        "id": "WiY_eeknZQql"
      },
      "id": "WiY_eeknZQql",
      "execution_count": null,
      "outputs": []
    },
    {
      "cell_type": "code",
      "source": [
        "def AQI_Range(x):\n",
        "    if x<=50:\n",
        "        return \"Good\"\n",
        "    elif x>50 and x<=100:\n",
        "        return \"Moderate\"\n",
        "    elif x>100 and x<=200:\n",
        "        return \"Poor\"\n",
        "    elif x>200 and x<=300:\n",
        "        return \"Unhealthy\"\n",
        "    elif x>300 and x<=400:\n",
        "        return \"Very unhealthy\"\n",
        "    elif x>400:\n",
        "        return \"Hazardous\"\n",
        "\n",
        "df['AQI_Range'] = df['AQI'] .apply(AQI_Range)\n",
        "df"
      ],
      "metadata": {
        "id": "KFkqTU3TZX9t"
      },
      "id": "KFkqTU3TZX9t",
      "execution_count": null,
      "outputs": []
    },
    {
      "cell_type": "code",
      "source": [
        "nullvalues = df.isnull().sum().sort_values(ascending=False)"
      ],
      "metadata": {
        "id": "xYP6TUYlcFEN"
      },
      "id": "xYP6TUYlcFEN",
      "execution_count": null,
      "outputs": []
    },
    {
      "cell_type": "code",
      "source": [
        "nullvalues"
      ],
      "metadata": {
        "id": "TynOSYQ7cIn3"
      },
      "id": "TynOSYQ7cIn3",
      "execution_count": null,
      "outputs": []
    },
    {
      "cell_type": "code",
      "source": [
        "null_values_percentage = (df.isnull().sum()/df.isnull().count()*100).sort_values(ascending=False)"
      ],
      "metadata": {
        "id": "IZ1Fg_hwctty"
      },
      "id": "IZ1Fg_hwctty",
      "execution_count": null,
      "outputs": []
    },
    {
      "cell_type": "code",
      "source": [
        "missing_data_with_percentage = pd.concat([nullvalues, null_values_percentage], axis=1, keys=['Total', 'Percent'])"
      ],
      "metadata": {
        "id": "-hHZXyGxcxav"
      },
      "id": "-hHZXyGxcxav",
      "execution_count": null,
      "outputs": []
    },
    {
      "cell_type": "code",
      "source": [
        "missing_data_with_percentage"
      ],
      "metadata": {
        "id": "dE7nKhAnc1iP"
      },
      "id": "dE7nKhAnc1iP",
      "execution_count": null,
      "outputs": []
    },
    {
      "cell_type": "code",
      "source": [
        "df.drop(['agency'],axis=1,inplace=True)\n",
        "df.drop(['stn_code'],axis=1,inplace=True)\n",
        "df.drop(['date'],axis=1,inplace=True)\n",
        "df.drop(['sampling_date'],axis=1,inplace=True)\n",
        "df.drop(['location_monitoring_station'],axis=1,inplace=True)"
      ],
      "metadata": {
        "id": "IvpLrWU5c6Vz"
      },
      "id": "IvpLrWU5c6Vz",
      "execution_count": null,
      "outputs": []
    },
    {
      "cell_type": "code",
      "source": [
        "df.isnull().sum()"
      ],
      "metadata": {
        "id": "zDbLDKBzc9gQ"
      },
      "id": "zDbLDKBzc9gQ",
      "execution_count": null,
      "outputs": []
    },
    {
      "cell_type": "code",
      "source": [
        "df['location']=df['location'].fillna(df['location'].mode()[0])\n",
        "df['type']=df['type'].fillna(df['type'].mode()[0])\n",
        "# Null value Imputation for categorical data"
      ],
      "metadata": {
        "id": "FOQ5rnd4dCKJ"
      },
      "id": "FOQ5rnd4dCKJ",
      "execution_count": null,
      "outputs": []
    },
    {
      "cell_type": "code",
      "source": [
        "df.fillna(0, inplace=True)"
      ],
      "metadata": {
        "id": "Zk0XAb3BdIV0"
      },
      "id": "Zk0XAb3BdIV0",
      "execution_count": null,
      "outputs": []
    },
    {
      "cell_type": "code",
      "source": [
        "from sklearn.neighbors import KNeighborsClassifier\n",
        "import joblib"
      ],
      "metadata": {
        "id": "YgfFztZHaxFJ"
      },
      "id": "YgfFztZHaxFJ",
      "execution_count": null,
      "outputs": []
    },
    {
      "cell_type": "code",
      "execution_count": null,
      "id": "d0c4fd42",
      "metadata": {
        "execution": {
          "iopub.execute_input": "2022-03-31T11:21:58.012707Z",
          "iopub.status.busy": "2022-03-31T11:21:58.011800Z",
          "iopub.status.idle": "2022-03-31T11:21:58.014967Z",
          "shell.execute_reply": "2022-03-31T11:21:58.014305Z",
          "shell.execute_reply.started": "2022-03-31T11:13:18.123592Z"
        },
        "papermill": {
          "duration": 0.132241,
          "end_time": "2022-03-31T11:21:58.015121",
          "exception": false,
          "start_time": "2022-03-31T11:21:57.882880",
          "status": "completed"
        },
        "tags": [],
        "id": "d0c4fd42"
      },
      "outputs": [],
      "source": [
        "X = df[['SOi','Noi','Rpi','SPMi']]\n",
        "Y = df['AQI_Range']\n",
        "# Splitting the data into independent and dependent columns for classification"
      ]
    },
    {
      "cell_type": "code",
      "execution_count": null,
      "id": "c50beb21",
      "metadata": {
        "execution": {
          "iopub.execute_input": "2022-03-31T11:21:58.256602Z",
          "iopub.status.busy": "2022-03-31T11:21:58.255930Z",
          "iopub.status.idle": "2022-03-31T11:21:58.331717Z",
          "shell.execute_reply": "2022-03-31T11:21:58.331140Z",
          "shell.execute_reply.started": "2022-03-31T11:13:18.141890Z"
        },
        "papermill": {
          "duration": 0.19769,
          "end_time": "2022-03-31T11:21:58.331871",
          "exception": false,
          "start_time": "2022-03-31T11:21:58.134181",
          "status": "completed"
        },
        "tags": [],
        "id": "c50beb21"
      },
      "outputs": [],
      "source": [
        "X_train, X_test, Y_train, Y_test = train_test_split(X, Y, test_size=0.33, random_state=70)\n",
        "# Splitting the data into training and testing data"
      ]
    },
    {
      "cell_type": "markdown",
      "id": "c687f93c",
      "metadata": {
        "papermill": {
          "duration": 0.122669,
          "end_time": "2022-03-31T11:22:49.398405",
          "exception": false,
          "start_time": "2022-03-31T11:22:49.275736",
          "status": "completed"
        },
        "tags": [],
        "id": "c687f93c"
      },
      "source": [
        "### K-Nearest Neighbours"
      ]
    },
    {
      "cell_type": "code",
      "execution_count": null,
      "id": "546f107a",
      "metadata": {
        "execution": {
          "iopub.execute_input": "2022-03-31T11:22:49.646437Z",
          "iopub.status.busy": "2022-03-31T11:22:49.645844Z",
          "iopub.status.idle": "2022-03-31T11:23:15.365092Z",
          "shell.execute_reply": "2022-03-31T11:23:15.365598Z",
          "shell.execute_reply.started": "2022-03-31T11:14:05.030397Z"
        },
        "papermill": {
          "duration": 25.845028,
          "end_time": "2022-03-31T11:23:15.365770",
          "exception": false,
          "start_time": "2022-03-31T11:22:49.520742",
          "status": "completed"
        },
        "tags": [],
        "id": "546f107a"
      },
      "outputs": [],
      "source": [
        "#fit the model on train data\n",
        "model = KNeighborsClassifier()\n",
        "model.fit(X_train, Y_train)\n",
        "KNN = KNeighborsClassifier().fit(X_train,Y_train)\n",
        "filename = 'Trained_model.sav'\n",
        "joblib.dump(model, filename)\n",
        "#predict on train\n",
        "train_preds = KNN.predict(X_train)\n",
        "#accuracy on train\n",
        "print(\"Model accuracy on train is: \", accuracy_score(Y_train, train_preds))\n",
        "\n",
        "#predict on test\n",
        "test_preds = KNN.predict(X_test)\n",
        "#accuracy on test\n",
        "print(\"Model accuracy on test is: \", accuracy_score(Y_test, test_preds))\n",
        "print('-'*50)\n",
        "\n",
        "# Kappa Score\n",
        "print('KappaScore is: ', metrics.cohen_kappa_score(Y_test,test_preds))"
      ]
    },
    {
      "cell_type": "code",
      "execution_count": null,
      "id": "50453c4b",
      "metadata": {
        "execution": {
          "iopub.execute_input": "2022-03-31T11:23:15.620069Z",
          "iopub.status.busy": "2022-03-31T11:23:15.619101Z",
          "iopub.status.idle": "2022-03-31T11:23:15.626371Z",
          "shell.execute_reply": "2022-03-31T11:23:15.627031Z",
          "shell.execute_reply.started": "2022-03-31T11:14:30.225158Z"
        },
        "papermill": {
          "duration": 0.137596,
          "end_time": "2022-03-31T11:23:15.627205",
          "exception": false,
          "start_time": "2022-03-31T11:23:15.489609",
          "status": "completed"
        },
        "tags": [],
        "id": "50453c4b"
      },
      "outputs": [],
      "source": [
        "KNN.predict([[7.4,47.7,78.182,100]])\n",
        "# Predictions on random values"
      ]
    },
    {
      "cell_type": "code",
      "execution_count": null,
      "id": "0f24b23f",
      "metadata": {
        "execution": {
          "iopub.execute_input": "2022-03-31T11:23:15.914886Z",
          "iopub.status.busy": "2022-03-31T11:23:15.914213Z",
          "iopub.status.idle": "2022-03-31T11:23:15.923045Z",
          "shell.execute_reply": "2022-03-31T11:23:15.923819Z",
          "shell.execute_reply.started": "2022-03-31T11:14:30.235324Z"
        },
        "papermill": {
          "duration": 0.150222,
          "end_time": "2022-03-31T11:23:15.924055",
          "exception": false,
          "start_time": "2022-03-31T11:23:15.773833",
          "status": "completed"
        },
        "tags": [],
        "id": "0f24b23f"
      },
      "outputs": [],
      "source": [
        "KNN.predict([[1,1.2,3.12,0]])\n",
        "# Predictions on random values"
      ]
    },
    {
      "cell_type": "code",
      "execution_count": null,
      "id": "2688adde",
      "metadata": {
        "execution": {
          "iopub.execute_input": "2022-03-31T11:23:16.186895Z",
          "iopub.status.busy": "2022-03-31T11:23:16.186017Z",
          "iopub.status.idle": "2022-03-31T11:23:16.189471Z",
          "shell.execute_reply": "2022-03-31T11:23:16.190003Z",
          "shell.execute_reply.started": "2022-03-31T11:14:30.245337Z"
        },
        "papermill": {
          "duration": 0.136196,
          "end_time": "2022-03-31T11:23:16.190181",
          "exception": false,
          "start_time": "2022-03-31T11:23:16.053985",
          "status": "completed"
        },
        "tags": [],
        "id": "2688adde"
      },
      "outputs": [],
      "source": [
        "KNN.predict([[325.7,345,798.182,203]])\n",
        "# Predictions on random values"
      ]
    },
    {
      "cell_type": "code",
      "source": [
        "! pip install -q streamlit"
      ],
      "metadata": {
        "id": "ea6BFG9diGhT"
      },
      "id": "ea6BFG9diGhT",
      "execution_count": null,
      "outputs": []
    },
    {
      "cell_type": "code",
      "source": [
        "! pip install pyngrok"
      ],
      "metadata": {
        "id": "O2A5rIFAiI2d"
      },
      "id": "O2A5rIFAiI2d",
      "execution_count": null,
      "outputs": []
    },
    {
      "cell_type": "code",
      "source": [
        "%%writefile app.py\n",
        "import streamlit as st\n",
        "import pandas as pd\n",
        "import numpy as np\n",
        "import joblib\n",
        "\n",
        "st.title('Air Quality Index Predictor')\n",
        "\n",
        "SO2I = st.number_input(\"Enter the SO2I value:\")\n",
        "NO2I = st.number_input(\"Enter the NO2I value:\")\n",
        "RPI = st.number_input(\"Enter the RPI value:\")\n",
        "SPMI = st.number_input(\"Enter the SPMI value:\")\n",
        "loaded_model = joblib.load('Trained_model.sav')\n",
        "inputs = (SO2I, NO2I, RPI, SPMI)\n",
        "if st.button(\"Predict\"):\n",
        "    result = loaded_model.predict([inputs])\n",
        "    st.write(result)"
      ],
      "metadata": {
        "id": "_OCVv9M7h1LE"
      },
      "id": "_OCVv9M7h1LE",
      "execution_count": null,
      "outputs": []
    },
    {
      "cell_type": "code",
      "source": [
        "!ngrok authtoken 2Kgk0JPvh53BRHvj2SCxcZI3YPN_2eDZG97kbtqGH7xy3yD88"
      ],
      "metadata": {
        "id": "NKX9mPm0iOmS"
      },
      "id": "NKX9mPm0iOmS",
      "execution_count": null,
      "outputs": []
    },
    {
      "cell_type": "code",
      "source": [
        "!wget https://bin.equinox.io/c/4VmDzA7iaHb/ngrok-stable-linux-amd64.zip"
      ],
      "metadata": {
        "id": "X1GHgst6iUxp"
      },
      "id": "X1GHgst6iUxp",
      "execution_count": null,
      "outputs": []
    },
    {
      "cell_type": "code",
      "source": [
        "!unzip ngrok-stable-linux-amd64.zip"
      ],
      "metadata": {
        "id": "0e7aCHqQiYWU"
      },
      "id": "0e7aCHqQiYWU",
      "execution_count": null,
      "outputs": []
    },
    {
      "cell_type": "code",
      "source": [
        "get_ipython().system_raw('./ngrok http 8501 &')"
      ],
      "metadata": {
        "id": "vMT2QEDAibOA"
      },
      "id": "vMT2QEDAibOA",
      "execution_count": null,
      "outputs": []
    },
    {
      "cell_type": "code",
      "source": [
        "! curl -s http://localhost:4040/api/tunnels | python3 -c \\\n",
        "\"import sys, json; print(json.load(sys.stdin)['tunnels'][0]['public_url'])\""
      ],
      "metadata": {
        "id": "CvaDkw4yif3V"
      },
      "id": "CvaDkw4yif3V",
      "execution_count": null,
      "outputs": []
    },
    {
      "cell_type": "code",
      "source": [
        "!streamlit run /content/app.py"
      ],
      "metadata": {
        "id": "IysyeUAHimD2"
      },
      "id": "IysyeUAHimD2",
      "execution_count": null,
      "outputs": []
    }
  ],
  "metadata": {
    "kernelspec": {
      "display_name": "Python 3",
      "language": "python",
      "name": "python3"
    },
    "language_info": {
      "codemirror_mode": {
        "name": "ipython",
        "version": 3
      },
      "file_extension": ".py",
      "mimetype": "text/x-python",
      "name": "python",
      "nbconvert_exporter": "python",
      "pygments_lexer": "ipython3",
      "version": "3.7.12"
    },
    "papermill": {
      "default_parameters": {},
      "duration": 254.938724,
      "end_time": "2022-03-31T11:23:17.730970",
      "environment_variables": {},
      "exception": null,
      "input_path": "__notebook__.ipynb",
      "output_path": "__notebook__.ipynb",
      "parameters": {},
      "start_time": "2022-03-31T11:19:02.792246",
      "version": "2.3.3"
    },
    "colab": {
      "provenance": []
    },
    "accelerator": "GPU",
    "gpuClass": "standard"
  },
  "nbformat": 4,
  "nbformat_minor": 5
}